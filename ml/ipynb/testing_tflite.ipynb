{
 "cells": [
  {
   "cell_type": "code",
   "execution_count": 1,
   "metadata": {},
   "outputs": [],
   "source": [
    "# load tflite model\n",
    "import numpy as np\n",
    "import tensorflow as tf\n",
    "\n",
    "def evaluate_model(interpreter: tf.lite.Interpreter, features, ground_truth):\n",
    "    # Set the input tensor\n",
    "    input_details = interpreter.get_input_details()\n",
    "    output_details = interpreter.get_output_details()\n",
    "    \n",
    "    # Assuming features is a numpy array and needs to be reshaped\n",
    "    features = np.array(features, dtype=np.float32)  # Convert to FLOAT32\n",
    "    interpreter.set_tensor(input_details[0]['index'], features)\n",
    "    \n",
    "    # Run the interpreter\n",
    "    interpreter.invoke()\n",
    "    \n",
    "    # Get the output tensor\n",
    "    output_data = interpreter.get_tensor(output_details[0]['index'])\n",
    "    \n",
    "    # Compare the output result to the ground truth\n",
    "    predicted_char = output_data.argmax()  # Assuming the output is a probability distribution\n",
    "    if ground_truth == chr(predicted_char + ord(\"A\")):\n",
    "        print(f'Correct prediction! Predicted: {chr(predicted_char + ord(\"A\"))}')\n",
    "    else:\n",
    "        print(f'Incorrect prediction! Predicted: {chr(predicted_char + ord(\"A\"))} Actual: {ground_truth}')\n",
    "    \n",
    "    # Print all characters and their probabilities\n",
    "    for i in range(len(output_data[0])):\n",
    "        print(f'{chr(i + ord(\"A\"))}: {output_data[0][i]}')\n",
    "\n"
   ]
  },
  {
   "cell_type": "code",
   "execution_count": null,
   "metadata": {},
   "outputs": [
    {
     "name": "stdout",
     "output_type": "stream",
     "text": [
      "Incorrect prediction! Predicted: X Actual: R\n",
      "A: 0.02675522118806839\n",
      "B: 0.0021278569474816322\n",
      "C: 0.002013891004025936\n",
      "D: 0.020554013550281525\n",
      "E: 0.059023696929216385\n",
      "F: 0.001940376590937376\n",
      "G: 0.029837537556886673\n",
      "H: 0.006855671759694815\n",
      "I: 0.010858597233891487\n",
      "J: 0.015196952037513256\n",
      "K: 0.027018221095204353\n",
      "L: 0.012130631133913994\n",
      "M: 0.005149910692125559\n",
      "N: 0.00204583746381104\n",
      "O: 0.014202017337083817\n",
      "P: 0.020086562260985374\n",
      "Q: 0.005828834604471922\n",
      "R: 0.08121524751186371\n",
      "S: 0.07780205458402634\n",
      "T: 0.030460815876722336\n",
      "U: 0.051495395600795746\n",
      "V: 0.028785333037376404\n",
      "W: 0.003183049149811268\n",
      "X: 0.43524619936943054\n",
      "Y: 0.007015907671302557\n",
      "Z: 0.014842469245195389\n",
      "[: 0.007893072441220284\n",
      "\\: 0.0004345659399405122\n"
     ]
    }
   ],
   "source": [
    "features = [[0.4796351, 0.51221037, 0.5189155, 0.46231276, 0.39583457, 0.5308335, 0.5636285, 0.5743956, 0.5831104, 0.47416335, 0.47482842, 0.46981606, 0.4721089, 0.42647865, 0.39960808, 0.39015543, 0.39242357, 0.39671496, 0.37963417, 0.39341065, 0.41074744, 1.0245972, 1.0052624, 0.9325657, 0.86417174, 0.82210505, 0.79905677, 0.6890111, 0.6259612, 0.569752, 0.7876404, 0.6689524, 0.5974513, 0.54101664, 0.8036376, 0.70929724, 0.642066, 0.5765569, 0.8450139, 0.83268374, 0.8830221, 0.93489176]]\n",
    "ground_truth = 'W'\n",
    "features = [[0.46506932, 0.5673108, 0.6146883, 0.5988295, 0.52522403, 0.5670886, 0.58538723, 0.5949424, 0.5940366, 0.5052191, 0.5421544, 0.59467155, 0.62957895, 0.43425384, 0.4988721, 0.5324819, 0.5295688, 0.3711862, 0.46229196, 0.50085974, 0.50035214, 0.96138644, 0.90181184, 0.73435205, 0.5952459, 0.5143259, 0.62394226, 0.46498606, 0.36383924, 0.27791882, 0.61102164, 0.43478802, 0.34119374, 0.25939864, 0.6207669, 0.50806534, 0.6175792, 0.7009959, 0.6424121, 0.5863017, 0.66742945, 0.7325335]]\n",
    "ground_truth = 'R'\n",
    "\n",
    "# Load the TFLite model\n",
    "interpreter = tf.lite.Interpreter(model_path=\"asl_landmark_model_local.tflite\")\n",
    "interpreter.allocate_tensors()\n",
    "\n",
    "evaluate_model(interpreter, features, ground_truth)"
   ]
  }
 ],
 "metadata": {
  "kernelspec": {
   "display_name": "Python 3",
   "language": "python",
   "name": "python3"
  },
  "language_info": {
   "codemirror_mode": {
    "name": "ipython",
    "version": 3
   },
   "file_extension": ".py",
   "mimetype": "text/x-python",
   "name": "python",
   "nbconvert_exporter": "python",
   "pygments_lexer": "ipython3",
   "version": "3.12.9"
  }
 },
 "nbformat": 4,
 "nbformat_minor": 2
}
